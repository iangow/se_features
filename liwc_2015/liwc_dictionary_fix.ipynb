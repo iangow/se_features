{
 "cells": [
  {
   "cell_type": "code",
   "execution_count": 3,
   "metadata": {},
   "outputs": [],
   "source": [
    "# Ideally these should be set outside code.\n",
    "import os\n",
    "os.environ['PGHOST'] = \"localhost\"\n",
    "os.environ['PGDATABASE'] = \"crsp\""
   ]
  },
  {
   "cell_type": "code",
   "execution_count": 4,
   "metadata": {},
   "outputs": [],
   "source": [
    "import os\n",
    "import re\n",
    "import json\n",
    "import pandas as pd\n",
    "\n",
    "from sqlalchemy import create_engine\n",
    "from pandas.io.json import json_normalize\n",
    "\n",
    "conn_string = 'postgresql://' + os.environ['PGHOST'] + '/' + os.environ['PGDATABASE']\n",
    "engine = create_engine(conn_string)\n",
    "\n",
    "target_schema = \"se_features\"\n",
    "\n",
    "engine.execute(\"SET search_path TO %s, public\" % target_schema)\n",
    "rv = engine.execute(\"SELECT category FROM %s.liwc_2015\" % target_schema)\n",
    "\n",
    "categories = [ r['category'] for r in rv]\n",
    "\n",
    "plan = \"\"\"\n",
    "    SELECT word_list\n",
    "    FROM %s.liwc_2015 \"\"\" % target_schema + \"WHERE category = %s\"\n",
    "\n",
    "mod_word_list = {}\n",
    "for cat in categories:\n",
    "    rows = list(engine.execute(plan, [cat]))\n",
    "    word_list = rows[0]['word_list']\n",
    "    mod_word_list[cat] = [re.sub('\\*(?:\\s*$)?', '[a-z]*', word.lower())\n",
    "                            for word in word_list]\n",
    "    \n",
    "# Include numeric values in Number category (modified by Yvonne)\n",
    "mod_word_list['Number'].append('[0-9]+(\\.[0-9]+)?')\n",
    "mod_word_list['Number'].append('\\.[0-9]+')\n",
    "\n",
    "\n",
    "# Pre-compile regular expressions.\n",
    "regex_list = {}\n",
    "for key in mod_word_list.keys():\n",
    "    # NOTE: Deleted hyphen for testing\n",
    "    regex = r\"\\b(?:\" + \"|\".join(mod_word_list[key]) + r\")(?=(?:[^a-zA-Z0-9_']|$))\"\n",
    "    regex_list[key] = re.compile(regex)\n"
   ]
  },
  {
   "cell_type": "code",
   "execution_count": 5,
   "metadata": {},
   "outputs": [],
   "source": [
    "import os\n",
    "import re\n",
    "import json\n",
    "import pandas as pd\n",
    "\n",
    "from sqlalchemy import create_engine\n",
    "from pandas.io.json import json_normalize\n",
    "\n",
    "conn_string = 'postgresql://' + os.environ['PGHOST'] + '/' + os.environ['PGDATABASE']\n",
    "engine = create_engine(conn_string)\n",
    "\n",
    "target_schema = \"se_features\"\n",
    "\n",
    "engine.execute(\"SET search_path TO %s, public\" % target_schema)\n",
    "rv = engine.execute(\"SELECT id FROM %s.negative_liwc_2015\" % target_schema)\n",
    "\n",
    "neg_ids = [r['id'] for r in rv]\n",
    "\n",
    "plan = \"\"\"\n",
    "    SELECT word_list\n",
    "    FROM %s.negative_liwc_2015 \"\"\" % target_schema + \"WHERE id = %s\"\n",
    "\n",
    "neg_mod_word_list = {}\n",
    "for neg_id in neg_ids:\n",
    "    rows = list(engine.execute(plan, [neg_id]))\n",
    "    word_list = rows[0]['word_list']\n",
    "    neg_mod_word_list[neg_id] = [re.sub('\\*(?:\\s*$)?', '[a-z]*', word.lower())\n",
    "                            for word in word_list]\n",
    "    \n",
    "\n",
    "plan = \"\"\"\n",
    "    SELECT category\n",
    "    FROM %s.negative_liwc_2015 \"\"\" % target_schema + \"WHERE id = %s\"\n",
    "\n",
    "# Pre-compile regular expressions.\n",
    "neg_cat_list = {}\n",
    "neg_regex_list = {}\n",
    "\n",
    "for key in neg_mod_word_list.keys():\n",
    "    rows = list(engine.execute(plan, [key]))\n",
    "    neg_cat = rows[0]['category']\n",
    "    neg_cat_list[key] = neg_cat\n",
    "    # NOTE: Deleted hyphen for testing\n",
    "    neg_regex = r\"\\b(?:\" + \"|\".join(neg_mod_word_list[key]) + r\")(?=(?:[^a-zA-Z0-9_']|$))\"\n",
    "    neg_regex_list[key] = re.compile(neg_regex)"
   ]
  },
  {
   "cell_type": "code",
   "execution_count": 6,
   "metadata": {},
   "outputs": [],
   "source": [
    "from collections import Counter \n",
    "def pos_liwc_counter(the_text):\n",
    "    text = the_text.lower()\n",
    "    the_dict = Counter()\n",
    "    for cat in categories:\n",
    "        num = len(re.findall(regex_list[cat], text))\n",
    "        the_dict[cat] += num\n",
    "    return the_dict"
   ]
  },
  {
   "cell_type": "code",
   "execution_count": 7,
   "metadata": {},
   "outputs": [],
   "source": [
    "from collections import Counter \n",
    "def neg_liwc_counter(the_text):\n",
    "    text = the_text.lower()\n",
    "    the_neg_dict = Counter()\n",
    "    for neg_id in neg_ids:\n",
    "        neg_cat = neg_cat_list[neg_id]\n",
    "        num = len(re.findall(neg_regex_list[neg_id], text))\n",
    "        the_neg_dict[neg_cat] += num\n",
    "    return the_neg_dict"
   ]
  },
  {
   "cell_type": "code",
   "execution_count": 8,
   "metadata": {},
   "outputs": [],
   "source": [
    "def add_liwc_counters(the_text):\n",
    "    pos_counter = pos_liwc_counter(the_text)\n",
    "    neg_counter = neg_liwc_counter(the_text)\n",
    "    liwc_result = pos_counter\n",
    "    liwc_result.subtract(neg_counter.elements())\n",
    "    return liwc_result"
   ]
  },
  {
   "cell_type": "code",
   "execution_count": 12,
   "metadata": {},
   "outputs": [],
   "source": [
    "# liwc_orig and liwc_alt return different values for `Bio` and `Body` for the below text.\n",
    "\n",
    "bio_text = \"\"\"But as we all know, particularly in the memory side, things dramatically weakened.\"\"\""
   ]
  },
  {
   "cell_type": "code",
   "execution_count": 13,
   "metadata": {},
   "outputs": [
    {
     "data": {
      "text/plain": [
       "Counter({'Achieve': 0,\n",
       "         'Adj': 2,\n",
       "         'Adverb': 1,\n",
       "         'Affect': 1,\n",
       "         'Affiliation': 1,\n",
       "         'Anger': 0,\n",
       "         'Anx': 0,\n",
       "         'Article': 1,\n",
       "         'Assent': 0,\n",
       "         'Auxverb': 0,\n",
       "         'Bio': 0,\n",
       "         'Body': 1,\n",
       "         'Cause': 0,\n",
       "         'Certain': 2,\n",
       "         'CogProc': 5,\n",
       "         'Compare': 1,\n",
       "         'Conj': 2,\n",
       "         'Death': 0,\n",
       "         'Differ': 1,\n",
       "         'Discrep': 0,\n",
       "         'Drives': 2,\n",
       "         'Family': 0,\n",
       "         'Feel': 0,\n",
       "         'Female': 0,\n",
       "         'Filler': 0,\n",
       "         'FocusFuture': 0,\n",
       "         'FocusPast': 1,\n",
       "         'FocusPresent': 1,\n",
       "         'Friend': 0,\n",
       "         'Function': 7,\n",
       "         'Health': 1,\n",
       "         'Hear': 0,\n",
       "         'Home': 0,\n",
       "         'I': 0,\n",
       "         'Informal': 0,\n",
       "         'Ingest': 0,\n",
       "         'Insight': 2,\n",
       "         'Interrog': 0,\n",
       "         'Ipron': 1,\n",
       "         'Leisure': 1,\n",
       "         'Male': 0,\n",
       "         'Money': 0,\n",
       "         'Motion': 0,\n",
       "         'Negate': 0,\n",
       "         'Negemo': 1,\n",
       "         'Netspeak': 0,\n",
       "         'Nonflu': 0,\n",
       "         'Number': 0,\n",
       "         'Percept': 0,\n",
       "         'Posemo': 0,\n",
       "         'Power': 1,\n",
       "         'Ppron': 1,\n",
       "         'Prep': 2,\n",
       "         'Pronoun': 2,\n",
       "         'Quant': 1,\n",
       "         'Relativ': 2,\n",
       "         'Relig': 0,\n",
       "         'Reward': 0,\n",
       "         'Risk': 0,\n",
       "         'Sad': 0,\n",
       "         'See': 0,\n",
       "         'Sexual': 0,\n",
       "         'SheHe': 0,\n",
       "         'Social': 1,\n",
       "         'Space': 2,\n",
       "         'Swear': 0,\n",
       "         'Tentat': 0,\n",
       "         'They': 0,\n",
       "         'Time': 0,\n",
       "         'Verb': 2,\n",
       "         'We': 1,\n",
       "         'Work': 0,\n",
       "         'You': 0})"
      ]
     },
     "execution_count": 13,
     "metadata": {},
     "output_type": "execute_result"
    }
   ],
   "source": [
    "# liwc_orig: Bio: 1, Body: 0\n",
    "# liwc_alt (see below): Bio: 0, Body: 1\n",
    "\n",
    "add_liwc_counters(bio_text)"
   ]
  },
  {
   "cell_type": "code",
   "execution_count": 14,
   "metadata": {},
   "outputs": [
    {
     "data": {
      "text/plain": [
       "re.compile(r\"\\b(?:abdomen[a-z]*|abortion[a-z]*|abs|ache[a-z]*|aching[a-z]*|acne|addict[a-z]*|advil|aerobic[a-z]*|aids|alcohol[a-z]*|alive|allerg[a-z]*|amput[a-z]*|anal|ankle[a-z]*|anorexi[a-z]*|antacid[a-z]*|antidepressant[a-z]*|anus[a-z]*|appeti[a-z]*|arch|arm|armpit[a-z]*|arms[a-z]*|arous[a-z]*|arse|arses|arter[a-z]*|arthr[a-z]*|asexual[a-z]*|asleep|aspirin[a-z]*|ass|asses|asshole[a-z]*|asthma[a-z]*|ate|bacon[a-z]*|bake[a-z]*|baking|bald|banana|bandage[a-z]*|bandaid|bar|bars|bbq|bdsm|bean[a-z]*|beard|beef|beer[a-z]*|bellies|belly|bi|bi-sexual[a-z]*|bicep[a-z]*|binge[a-z]*|binging|biolog[a-z]*|bipolar|bj|bladder[a-z]*|bleed[a-z]*|blind[a-z]*|blood|bloody|blowjob[a-z]*|bodi[a-z]*|body[a-z]*|boil[a-z]*|bollock[a-z]*|bone|boner[a-z]*|bones|bony|boob[a-z]*|booty|booz[a-z]*|bowel[a-z]*|brain[a-z]*|bread|breakfast[a-z]*|breast[a-z]*|breath[a-z]*|bronchi[a-z]*|brownies|brunch[a-z]*|bulimi[a-z]*|burger|burp[a-z]*|butt|butter[a-z]*|buttfuck[a-z]*|butts|cafe[a-z]*|caffeine|cake[a-z]*|call-girl[a-z]*|callgirl[a-z]*|cancer[a-z]*|candie[a-z]*|candy|cardia[a-z]*|cardio[a-z]*|cbt|cereals|checkup[a-z]*|cheek[a-z]*|chees[a-z]*|chest[a-z]*|chew[a-z]*|chili|chills|chiropract[a-z]*|chlamydia|chocolat[a-z]*|chok[a-z]*|cholester[a-z]*|chow[a-z]*|chronic[a-z]*|cigar[a-z]*|clinic[a-z]*|clit|clitoris[a-z]*|clothes|cock|cocks[a-z]*|cocktail[a-z]*|codeine|coffee[a-z]*|coke[a-z]*|cola|colon|colono[a-z]*|coma[a-z]*|condom|condoms|congest[a-z]*|constipat[a-z]*|contag[a-z]*|cook[a-z]*|cornea[a-z]*|coronar[a-z]*|cough[a-z]*|cramp[a-z]*|crap|cream|creamer|crotch|cum|cumming|cums|cupcake[a-z]*|cyst[a-z]*|deaf[a-z]*|decongest[a-z]*|delicious[a-z]*|dentist[a-z]*|derma[a-z]*|dessert[a-z]*|detox[a-z]*|diabet[a-z]*|diagnos[a-z]*|diarr[a-z]*|dick|dicks|diet[a-z]*|digest[a-z]*|dildo[a-z]*|dilf[a-z]*|dine|dined|diner|diners|dines|dining|dinner[a-z]*|disease[a-z]*|dish|dishes|dizz[a-z]*|doctor[a-z]*|dosage[a-z]*|dose[a-z]*|dosing|dr|drank|drink[a-z]*|drool[a-z]*|drows[a-z]*|drs|drug[a-z]*|drunk|drunke[a-z]*|dtf|dyke[a-z]*|ear|ears|eat|eaten|eating|eats|egg[a-z]*|elbow[a-z]*|emphysem[a-z]*|enema[a-z]*|epidemic[a-z]*|erectile|erection[a-z]*|erotic[a-z]*|espresso[a-z]*|estrogen[a-z]*|exercis[a-z]*|exhaust[a-z]*|express[a-z]*|eye[a-z]*|face|faces|facial[a-z]*|faint[a-z]*|farsighted|fat|fatigu[a-z]*|fats|fatted|fatten[a-z]*|fatter|fattier|fatties|fattiest|fatty|fed|feed|feeder[a-z]*|feeding[a-z]*|feeds|feet|fetish[a-z]*|fever[a-z]*|finger[a-z]*|fitness[a-z]*|flesh[a-z]*|flu|food[a-z]*|foot|forearm[a-z]*|forehead[a-z]*|foreplay|fries|fruit[a-z]*|fry[a-z]*|fuck|fuckboy[a-z]*|fucked[a-z]*|fuckin[a-z]*|fucks|fucktoy[a-z]*|fwb|gay|gays|genital[a-z]*|gigolo[a-z]*|gland[a-z]*|glaucoma|glutton[a-z]*|gobble[a-z]*|gobbling|gonorrhea[a-z]*|goosebump[a-z]*|grocer[a-z]*|gulp[a-z]*|gums|gut|guts|gynecolog[a-z]*|gyno[a-z]*|haircut|hairless[a-z]*|hairs|hairy|hallucinat[a-z]*|hamstring[a-z]*|hand|hands|hangover[a-z]*|hard-on[a-z]*|head|headache[a-z]*|heads|heal|healed|healer[a-z]*|healing|heals|health|healthful|healthier|healthiest|healthily|heart|heartburn[a-z]*|hearts|heel[a-z]*|helpings|hemor[a-z]*|herpes|heterosexual[a-z]*|hiccup[a-z]*|hip|hips|hiv|homo|homos|homosexual[a-z]*|hooker[a-z]*|hormone[a-z]*|hornie[a-z]*|horny|hospital[a-z]*|hump[a-z]*|hunger[a-z]*|hungover|hungrier|hungriest|hungrily|hungry|hyperten[a-z]*|hypotherm[a-z]*|ibuprofen|icu|ill|illness[a-z]*|immun[a-z]*|incest[a-z]*|indigestion|infect[a-z]*|infertil[a-z]*|inflam[a-z]*|ingest[a-z]*|inhal[a-z]*|injur[a-z]*|insomnia[a-z]*|insulin|intestin[a-z]*|intox[a-z]*|itch[a-z]*|iv|jaw[a-z]*|jism|jissom|jizz[a-z]*|joints|juice[a-z]*|kidney[a-z]*|kitchen[a-z]*|knee[a-z]*|knuckle[a-z]*|leg|legs[a-z]*|lesbian[a-z]*|leuke[a-z]*|libid[a-z]*|life|limp[a-z]*|lip|lips[a-z]*|liquor[a-z]*|live|lived|livel[a-z]*|liver[a-z]*|lives|living|love|loved|lover[a-z]*|loves|lozenge[a-z]*|lump[a-z]*|lunch[a-z]*|lung|lungs|lust[a-z]*|lymph[a-z]*|makeout[a-z]*|mammogram[a-z]*|manic-dep[a-z]*|manicdep[a-z]*|margarita[a-z]*|martini[a-z]*|masturb[a-z]*|mated|maternity|mating|mature|meal[a-z]*|meat[a-z]*|medic[a-z]*|migrain[a-z]*|milf[a-z]*|milk[a-z]*|miscar[a-z]*|mono|mouth[a-z]*|mri|mucous[a-z]*|muscle[a-z]*|muscular|myopi[a-z]*|naked|nasal|nause[a-z]*|nearsighted|neck[a-z]*|nerve[a-z]*|neural[a-z]*|neurolog[a-z]*|neuron[a-z]*|nipple[a-z]*|noodle[a-z]*|nose[a-z]*|nostril[a-z]*|nude[a-z]*|nudi[a-z]*|numbed|numbing|numbness|numbs|nurse[a-z]*|nutrition[a-z]*|obese|obesity|ocd|operat[a-z]*|optometr[a-z]*|orgasm[a-z]*|orgi[a-z]*|orgy|orthodon[a-z]*|orthoped[a-z]*|ovar[a-z]*|overate|overeat[a-z]*|overweight|pain|pained|painf[a-z]*|painl[a-z]*|pains|palm|palms|pancake[a-z]*|pap|paraly[a-z]*|passion[a-z]*|pasta[a-z]*|paternity|patholog[a-z]*|pediatr[a-z]*|pee|pelvi[a-z]*|penis[a-z]*|pepsi)(?=(?:[^a-zA-Z0-9_']|$))\",\n",
       "re.UNICODE)"
      ]
     },
     "execution_count": 14,
     "metadata": {},
     "output_type": "execute_result"
    }
   ],
   "source": [
    "# The Bio word list was incomplete as the last word is \"pepsi\"\n",
    "# while it should be \"zoloft\"\n",
    "regex_list[\"Bio\"]"
   ]
  },
  {
   "cell_type": "code",
   "execution_count": 15,
   "metadata": {},
   "outputs": [
    {
     "data": {
      "text/plain": [
       "re.compile(r\"\\b(?:perspir[a-z]*|perv|perver[a-z]*|pervy|pharmac[a-z]*|phobi[a-z]*|physical|physicality|physically|physicals|physician[a-z]*|pie|pies|pill|pills|pimple[a-z]*|pimply|piss[a-z]*|pizza[a-z]*|pms|podiatr[a-z]*|poison[a-z]*|poop[a-z]*|popcorn|pork|porn[a-z]*|potato[a-z]*|pregnan[a-z]*|prescri[a-z]*|prick[a-z]*|prognos[a-z]*|promiscu[a-z]*|prostat[a-z]*|prostitu[a-z]*|prozac|prude|prudish|pubic|puk[a-z]*|pulse|puss|pussies|pussy[a-z]*|queas[a-z]*|queer[a-z]*|rape[a-z]*|raping|rapist[a-z]*|rash[a-z]*|rehab[a-z]*|restau[a-z]*|retina[a-z]*|rib|ribs|rice|ritalin|rum|rx|salad[a-z]*|saliv[a-z]*|salsa|salt|salty|sandwich[a-z]*|sauce|sauces|sausage[a-z]*|scab[a-z]*|scalp|schizophren[a-z]*|scrape[a-z]*|screw[a-z]*|seduc[a-z]*|seizure[a-z]*|sensation|sensations|servings|sex|sexier|sexiest|sexily|sexiness|sexing|sexless[a-z]*|sexploit[a-z]*|sexpot[a-z]*|sext[a-z]*|sexual[a-z]*|sexy|shirt[a-z]*|shit[a-z]*|shoe[a-z]*|shoulder[a-z]*|sick|sickday[a-z]*|sicker|sickest|sickleave[a-z]*|sickly|sickness[a-z]*|sinus[a-z]*|skelet[a-z]*|skin|skin'[a-z]*|skull[a-z]*|sleep|sleepier|sleepiest|sleeping|sleepless[a-z]*|sleeps|sleepwalk[a-z]*|sleepy|slept|slut[a-z]*|smok[a-z]*|snack[a-z]*|soda[a-z]*|sore|soup[a-z]*|spaghetti|spat|spinal|spine|spit|spits|spitting|starve[a-z]*|starving|std[a-z]*|stiff|stiffer|stiffest|stiffly|stomach[a-z]*|strept[a-z]*|stroke[a-z]*|stud|sugar|sugars|sugary|sunburn[a-z]*|supper[a-z]*|surgeon[a-z]*|surger[a-z]*|sushi|swallow[a-z]*|sweat[a-z]*|sweet|sweeter|sweetest|sweetness[a-z]*|sweets|swelling|swinger[a-z]*|swollen|symptom[a-z]*|syndrome[a-z]*|syphili[a-z]*|taco[a-z]*|taste|tasted|tastes|tastier|tastiest|tasting|tasty|tea|teeth[a-z]*|tender|tenderly|tendon|tendoni[a-z]*|tendons|tequila[a-z]*|testosterone[a-z]*|therap[a-z]*|thermometer[a-z]*|thigh[a-z]*|thirst|thirsting|thirsts|thirsty|throat[a-z]*|throb[a-z]*|thumbs|thyroid[a-z]*|tingl[a-z]*|tired|tiredest|tiring|tit|tits|titties|titty|toe|toenail[a-z]*|toes|tongue[a-z]*|tonsils|tooth[a-z]*|tox[a-z]*|tricep[a-z]*|tummy|tumo[a-z]*|twat[a-z]*|twitch|twitched|twitches|twitching|twitchy|tylenol|ulcer[a-z]*|unhealthy|urin[a-z]*|uter[a-z]*|vag|vagin[a-z]*|vd|veget[a-z]*|veggie[a-z]*|vein[a-z]*|vertigo|viagra|vibrator[a-z]*|vicodin|virgin[a-z]*|vital[a-z]*|vitamin[a-z]*|vodka[a-z]*|vomit[a-z]*|waist[a-z]*|wake|wank[a-z]*|wart|warts|wash|washed|washes|washing|water|weak|weaken|weakened|weakening|weakens|weaker|weakest|weakling|weakly|wear|wearing|wears|weary|weigh|weighed|weighing[a-z]*|weighs|weight|wellbeing|wellness|wheat|wheez[a-z]*|whiskey[a-z]*|whisky[a-z]*|whore[a-z]*|wine|wines|withdrawal|womb[a-z]*|wore|work-out[a-z]*|workout[a-z]*|wound[a-z]*|wrist[a-z]*|xanax|xray[a-z]*|yawn[a-z]*|yum|yummy|zit|zits|zoloft|abdomen[a-z]*|abs|anal|ankle[a-z]*|anus[a-z]*|arch|arm|armpit[a-z]*|arms[a-z]*|arous[a-z]*|arse|arses|arter[a-z]*|asleep|ass|asses|asshole[a-z]*|bald|beard|bellies|belly|bicep[a-z]*|bladder[a-z]*|bleed[a-z]*|blood|bloody|bodi[a-z]*|body[a-z]*|bollock[a-z]*|bone|boner[a-z]*|bones|bony|boob[a-z]*|booty|bowel[a-z]*|brain[a-z]*|breast[a-z]*|breath[a-z]*|burp[a-z]*|butt|butts|cheek[a-z]*|chest[a-z]*|clit|clitoris[a-z]*|clothes|cock|cocks[a-z]*|colon|cornea[a-z]*|crap|crotch|dick|dicks|drool[a-z]*|ear|ears|elbow[a-z]*|erectile|erection[a-z]*|eye[a-z]*|face|faces|facial[a-z]*|fat|fatten[a-z]*|fatter|fattier|fatties|fattiest|fatty|feet|finger[a-z]*|flesh[a-z]*|foot|forearm[a-z]*|forehead[a-z]*|genital[a-z]*|goosebump[a-z]*|gums|gut|guts|haircut|hairless[a-z]*|hairs|hairy|hamstring[a-z]*|hand|hands|head|heads|heart|hearts|heel[a-z]*|hip|hips|hornie[a-z]*|horny|inhal[a-z]*|injur[a-z]*|intestin[a-z]*|itch[a-z]*|jaw[a-z]*|joints|kidney[a-z]*|knee[a-z]*|knuckle[a-z]*|leg|legs[a-z]*|limp[a-z]*|lip|lips[a-z]*|liver[a-z]*|lung|lungs|mouth[a-z]*|mucous[a-z]*|muscle[a-z]*|muscular|naked|nasal|neck[a-z]*|nerve[a-z]*|neural[a-z]*|neuron[a-z]*|nipple[a-z]*|nose[a-z]*|nostril[a-z]*|nude[a-z]*|nudi[a-z]*|orgasm[a-z]*|ovar[a-z]*|palm|palms|pee|pelvi[a-z]*|penis[a-z]*|perspir[a-z]*|piss[a-z]*|poop[a-z]*|prick[a-z]*|prostat[a-z]*|pubic|pulse|pussies|pussy[a-z]*|rash[a-z]*|retina[a-z]*|rib|ribs|saliv[a-z]*|scalp|sensation|sensations|shirt[a-z]*|shit[a-z]*|shoe[a-z]*|shoulder[a-z]*|skelet[a-z]*|skin|skin'[a-z]*|skull[a-z]*|sleep|sleepier|sleepiest|sleeping|sleepless[a-z]*|sleeps|sleepwalk[a-z]*|sleepy|slept|spat|spinal|spine|spit|spits|spitting|stomach[a-z]*|sweat[a-z]*|teeth[a-z]*|tendon|tendons|thigh[a-z]*|thirst|thirsting|thirsts|thirsty|throat[a-z]*|thumbs|tit|tits|titties|titty|toe|toenail[a-z]*|toes|tongue[a-z]*|tonsils|tooth[a-z]*|tricep[a-z]*|tummy|urin[a-z]*|uter[a-z]*|vag|vagin[a-z]*|vein[a-z]*|waist[a-z]*|wake|wear|wearing|wears|womb[a-z]*|wore|wrist[a-z]*)(?=(?:[^a-zA-Z0-9_']|$))\",\n",
       "re.UNICODE)"
      ]
     },
     "execution_count": 15,
     "metadata": {},
     "output_type": "execute_result"
    }
   ],
   "source": [
    "# The first word of the \"Body\" category should start with a\n",
    "regex_list['Body']"
   ]
  },
  {
   "cell_type": "code",
   "execution_count": null,
   "metadata": {},
   "outputs": [],
   "source": []
  }
 ],
 "metadata": {
  "kernelspec": {
   "display_name": "Python 3",
   "language": "python",
   "name": "python3"
  },
  "language_info": {
   "codemirror_mode": {
    "name": "ipython",
    "version": 3
   },
   "file_extension": ".py",
   "mimetype": "text/x-python",
   "name": "python",
   "nbconvert_exporter": "python",
   "pygments_lexer": "ipython3",
   "version": "3.6.9"
  }
 },
 "nbformat": 4,
 "nbformat_minor": 2
}
