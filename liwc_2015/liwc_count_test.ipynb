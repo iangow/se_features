{
 "cells": [
  {
   "cell_type": "code",
   "execution_count": null,
   "metadata": {},
   "outputs": [],
   "source": [
    "# Ideally these should be set outside code.\n",
    "import os\n",
    "os.environ['PGHOST'] = \"localhost\"\n",
    "os.environ['PGDATABASE'] = \"crsp\""
   ]
  },
  {
   "cell_type": "code",
   "execution_count": null,
   "metadata": {},
   "outputs": [],
   "source": [
    "import os\n",
    "import re\n",
    "import json\n",
    "import pandas as pd\n",
    "\n",
    "from sqlalchemy import create_engine\n",
    "from pandas.io.json import json_normalize\n",
    "\n",
    "conn_string = 'postgresql://' + os.environ['PGHOST'] + '/' + os.environ['PGDATABASE']\n",
    "engine = create_engine(conn_string)\n",
    "\n",
    "target_schema = \"se_features\"\n",
    "\n",
    "engine.execute(\"SET search_path TO %s, public\" % target_schema)\n",
    "rv = engine.execute(\"SELECT category FROM %s.liwc_2015\" % target_schema)\n",
    "\n",
    "categories = [ r['category'] for r in rv]\n",
    "\n",
    "plan = \"\"\"\n",
    "    SELECT word_list\n",
    "    FROM %s.liwc_2015 \"\"\" % target_schema + \"WHERE category = %s\"\n",
    "\n",
    "mod_word_list = {}\n",
    "for cat in categories:\n",
    "    rows = list(engine.execute(plan, [cat]))\n",
    "    word_list = rows[0]['word_list']\n",
    "    mod_word_list[cat] = [re.sub('\\*(?:\\s*$)?', '[a-z]*', word.lower())\n",
    "                            for word in word_list]\n",
    "\n",
    "# Pre-compile regular expressions.\n",
    "regex_list = {}\n",
    "for key in mod_word_list.keys():\n",
    "    regex = '\\\\b(?:' + '|'.join(mod_word_list[key]) + ')\\\\b'\n",
    "    regex_list[key] = re.compile(regex)\n",
    "\n",
    "def liwc_counts(the_text):\n",
    "    \"\"\"Function to return number of matches against a LIWC category in a text\"\"\"\n",
    "    # Construct a counter of the words and return as JSON\n",
    "    text = re.sub(u'\\u2019', \"'\", the_text).lower()\n",
    "    the_dict = {cat: len(re.findall(regex_list[cat], text)) for cat in categories}\n",
    "    return json.dumps(the_dict)\n",
    "\n",
    "def expand_json(df, col):\n",
    "    return pd.concat([df.drop([col], axis=1),\n",
    "                      df[col].map(lambda x: json.loads(x)).apply(pd.Series)], axis=1)"
   ]
  },
  {
   "cell_type": "code",
   "execution_count": 1,
   "metadata": {},
   "outputs": [],
   "source": [
    "from liwc_functions import liwc_counts"
   ]
  },
  {
   "cell_type": "code",
   "execution_count": 2,
   "metadata": {},
   "outputs": [
    {
     "ename": "NameError",
     "evalue": "name 'os' is not defined",
     "output_type": "error",
     "traceback": [
      "\u001b[0;31m---------------------------------------------------------------------------\u001b[0m",
      "\u001b[0;31mNameError\u001b[0m                                 Traceback (most recent call last)",
      "\u001b[0;32m<ipython-input-2-edc601e12eba>\u001b[0m in \u001b[0;36m<module>\u001b[0;34m()\u001b[0m\n\u001b[1;32m      1\u001b[0m \u001b[0;32mfrom\u001b[0m \u001b[0msqlalchemy\u001b[0m \u001b[0;32mimport\u001b[0m \u001b[0mcreate_engine\u001b[0m\u001b[0;34m\u001b[0m\u001b[0;34m\u001b[0m\u001b[0m\n\u001b[0;32m----> 2\u001b[0;31m \u001b[0mconn_string\u001b[0m \u001b[0;34m=\u001b[0m \u001b[0;34m'postgresql://'\u001b[0m \u001b[0;34m+\u001b[0m \u001b[0mos\u001b[0m\u001b[0;34m.\u001b[0m\u001b[0menviron\u001b[0m\u001b[0;34m[\u001b[0m\u001b[0;34m'PGHOST'\u001b[0m\u001b[0;34m]\u001b[0m \u001b[0;34m+\u001b[0m \u001b[0;34m'/'\u001b[0m \u001b[0;34m+\u001b[0m \u001b[0mos\u001b[0m\u001b[0;34m.\u001b[0m\u001b[0menviron\u001b[0m\u001b[0;34m[\u001b[0m\u001b[0;34m'PGDATABASE'\u001b[0m\u001b[0;34m]\u001b[0m\u001b[0;34m\u001b[0m\u001b[0;34m\u001b[0m\u001b[0m\n\u001b[0m\u001b[1;32m      3\u001b[0m \u001b[0mengine\u001b[0m \u001b[0;34m=\u001b[0m \u001b[0mcreate_engine\u001b[0m\u001b[0;34m(\u001b[0m\u001b[0mconn_string\u001b[0m\u001b[0;34m)\u001b[0m\u001b[0;34m\u001b[0m\u001b[0;34m\u001b[0m\u001b[0m\n",
      "\u001b[0;31mNameError\u001b[0m: name 'os' is not defined"
     ]
    }
   ],
   "source": [
    "from sqlalchemy import create_engine\n",
    "conn_string = 'postgresql://' + os.environ['PGHOST'] + '/' + os.environ['PGDATABASE']\n",
    "engine = create_engine(conn_string)"
   ]
  },
  {
   "cell_type": "code",
   "execution_count": null,
   "metadata": {},
   "outputs": [],
   "source": [
    "from pandas.io.sql import read_sql\n",
    "\n",
    "sql = \"\"\"\\\n",
    "    SELECT *\n",
    "    FROM streetevents.speaker_data\n",
    "    WHERE file_name = '1018469_T'\n",
    "    \"\"\"\n",
    "\n",
    "df = read_sql(sql, engine)"
   ]
  },
  {
   "cell_type": "code",
   "execution_count": null,
   "metadata": {},
   "outputs": [],
   "source": [
    "df['liwc'] = df['speaker_text'].map(liwc_counts)"
   ]
  },
  {
   "cell_type": "code",
   "execution_count": null,
   "metadata": {},
   "outputs": [],
   "source": []
  }
 ],
 "metadata": {
  "kernelspec": {
   "display_name": "Python 3",
   "language": "python",
   "name": "python3"
  },
  "language_info": {
   "codemirror_mode": {
    "name": "ipython",
    "version": 3
   },
   "file_extension": ".py",
   "mimetype": "text/x-python",
   "name": "python",
   "nbconvert_exporter": "python",
   "pygments_lexer": "ipython3",
   "version": "3.6.7"
  }
 },
 "nbformat": 4,
 "nbformat_minor": 2
}
