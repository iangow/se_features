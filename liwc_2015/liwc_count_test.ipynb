{
 "cells": [
  {
   "cell_type": "code",
   "execution_count": 1,
   "metadata": {},
   "outputs": [],
   "source": [
    "# Ideally these should be set outside code.\n",
    "import os\n",
    "os.environ['PGHOST'] = \"localhost\"\n",
    "os.environ['PGDATABASE'] = \"crsp\""
   ]
  },
  {
   "cell_type": "code",
   "execution_count": 2,
   "metadata": {},
   "outputs": [],
   "source": [
    "import os\n",
    "import re\n",
    "import json\n",
    "import pandas as pd\n",
    "\n",
    "from sqlalchemy import create_engine\n",
    "from pandas.io.json import json_normalize\n",
    "\n",
    "conn_string = 'postgresql://' + os.environ['PGHOST'] + '/' + os.environ['PGDATABASE']\n",
    "engine = create_engine(conn_string)\n",
    "\n",
    "target_schema = \"se_features\"\n",
    "\n",
    "engine.execute(\"SET search_path TO %s, public\" % target_schema)\n",
    "rv = engine.execute(\"SELECT category FROM %s.liwc_2015\" % target_schema)\n",
    "\n",
    "categories = [ r['category'] for r in rv]\n",
    "\n",
    "plan = \"\"\"\n",
    "    SELECT word_list\n",
    "    FROM %s.liwc_2015 \"\"\" % target_schema + \"WHERE category = %s\"\n",
    "\n",
    "mod_word_list = {}\n",
    "for cat in categories:\n",
    "    rows = list(engine.execute(plan, [cat]))\n",
    "    word_list = rows[0]['word_list']\n",
    "    mod_word_list[cat] = [re.sub('\\*(?:\\s*$)?', '[a-z]*', word.lower())\n",
    "                            for word in word_list]\n",
    "\n",
    "# Pre-compile regular expressions.\n",
    "regex_list = {}\n",
    "for key in mod_word_list.keys():\n",
    "    regex = r\"\\b(?:\" + \"|\".join(mod_word_list[key]) + r\")(?=(?:[^a-zA-Z0-9_'-]|$))\"\n",
    "    regex_list[key] = re.compile(regex)\n",
    "    \n",
    "def liwc_counts(the_text):\n",
    "    \"\"\"Function to return number of matches against a LIWC category in a text\"\"\"\n",
    "    # Construct a counter of the words and return as JSON\n",
    "    text = re.sub(u'\\u2019', \"'\", the_text).lower()\n",
    "    the_dict = {cat: len(re.findall(regex_list[cat], text)) for cat in categories}\n",
    "    return json.dumps(the_dict)\n",
    "\n",
    "def expand_json(df, col):\n",
    "    return pd.concat([df.drop([col], axis=1),\n",
    "                      df[col].map(lambda x: json.loads(x)).apply(pd.Series)], axis=1)"
   ]
  },
  {
   "cell_type": "code",
   "execution_count": 3,
   "metadata": {},
   "outputs": [
    {
     "data": {
      "text/plain": [
       "re.compile(r\"\\b(?:their[a-z]*|them|themself|themselves|they|they'd|they'll|they've|theyd|theyll|theyve)(?=(?:[^a-zA-Z0-9_'-]|$))\",\n",
       "re.UNICODE)"
      ]
     },
     "execution_count": 3,
     "metadata": {},
     "output_type": "execute_result"
    }
   ],
   "source": [
    "regex_list['They']"
   ]
  },
  {
   "cell_type": "code",
   "execution_count": 4,
   "metadata": {},
   "outputs": [],
   "source": [
    "df = pd.read_sql(\"\"\"\n",
    "    SELECT speaker_text \n",
    "    FROM streetevents.speaker_data \n",
    "    WHERE file_name = '1802211_T' AND context = 'pres'\n",
    "        AND speaker_number = 3\"\"\", con = engine)"
   ]
  },
  {
   "cell_type": "code",
   "execution_count": 5,
   "metadata": {},
   "outputs": [],
   "source": [
    "sample_text = \"\"\"\n",
    "    Okay. And then, as you look at the 132 franchise agreements signed year-to-date,\n",
    "    it looks like about at least through this third quarter, slightly less \n",
    "    than half were net new agreements versus renewals or conversions. \n",
    "    The new guys coming in, what's the mix of brands they're choosing? \n",
    "    Are they -- where kind of in the scale are they kind of economy up?\n",
    "            And what's the mix of brands they're coming over for?\"\"\""
   ]
  },
  {
   "cell_type": "code",
   "execution_count": 6,
   "metadata": {},
   "outputs": [],
   "source": [
    "sample_text = df['speaker_text'][0]"
   ]
  },
  {
   "cell_type": "code",
   "execution_count": 7,
   "metadata": {},
   "outputs": [
    {
     "data": {
      "text/plain": [
       "'{\"Function\": 6286, \"Pronoun\": 1682, \"Ppron\": 1019, \"I\": 130, \"We\": 648, \"You\": 129, \"SheHe\": 9, \"They\": 103, \"Ipron\": 663, \"Article\": 898, \"Prep\": 1607, \"Auxverb\": 1186, \"Power\": 409, \"Adverb\": 600, \"Conj\": 729, \"Negate\": 138, \"Verb\": 2009, \"Adj\": 539, \"Compare\": 303, \"Interrog\": 156, \"Number\": 144, \"Quant\": 325, \"Affect\": 701, \"Posemo\": 519, \"Negemo\": 161, \"Anx\": 60, \"Anger\": 14, \"Sad\": 35, \"Social\": 1236, \"Family\": 0, \"Friend\": 4, \"Female\": 0, \"Male\": 11, \"CogProc\": 1357, \"Insight\": 241, \"Cause\": 266, \"Discrep\": 117, \"Tentat\": 374, \"Certain\": 151, \"Differ\": 326, \"Percept\": 117, \"See\": 72, \"Hear\": 21, \"Feel\": 10, \"Bio\": 51, \"Body\": 6, \"Health\": 36, \"Sexual\": 2, \"Ingest\": 11, \"Drives\": 1668, \"Affiliation\": 743, \"Achieve\": 332, \"Reward\": 238, \"Risk\": 119, \"FocusPast\": 469, \"FocusPresent\": 1346, \"FocusFuture\": 150, \"Relativ\": 1703, \"Motion\": 241, \"Space\": 981, \"Time\": 501, \"Work\": 851, \"Leisure\": 30, \"Home\": 42, \"Money\": 599, \"Relig\": 3, \"Death\": 3, \"Informal\": 76, \"Swear\": 0, \"Netspeak\": 60, \"Assent\": 3, \"Nonflu\": 13, \"Filler\": 1}'"
      ]
     },
     "execution_count": 7,
     "metadata": {},
     "output_type": "execute_result"
    }
   ],
   "source": [
    "liwc_counts(sample_text)"
   ]
  }
 ],
 "metadata": {
  "kernelspec": {
   "display_name": "Python 3",
   "language": "python",
   "name": "python3"
  },
  "language_info": {
   "codemirror_mode": {
    "name": "ipython",
    "version": 3
   },
   "file_extension": ".py",
   "mimetype": "text/x-python",
   "name": "python",
   "nbconvert_exporter": "python",
   "pygments_lexer": "ipython3",
   "version": "3.6.7"
  }
 },
 "nbformat": 4,
 "nbformat_minor": 2
}
