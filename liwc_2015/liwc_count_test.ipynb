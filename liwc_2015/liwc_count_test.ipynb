{
 "cells": [
  {
   "cell_type": "code",
   "execution_count": 1,
   "metadata": {},
   "outputs": [],
   "source": [
    "# Ideally these should be set outside code.\n",
    "import os\n",
    "os.environ['PGHOST'] = \"localhost\"\n",
    "os.environ['PGDATABASE'] = \"crsp\""
   ]
  },
  {
   "cell_type": "code",
   "execution_count": 2,
   "metadata": {},
   "outputs": [
    {
     "data": {
      "text/plain": [
       "re.compile(r\"\\b(?:their[a-z]*|them|themself|themselves|they|they'd|they'll|they've|theyd|theyll|theyve)\\b\",\n",
       "re.UNICODE)"
      ]
     },
     "execution_count": 2,
     "metadata": {},
     "output_type": "execute_result"
    }
   ],
   "source": [
    "import os\n",
    "import re\n",
    "import json\n",
    "import pandas as pd\n",
    "\n",
    "from sqlalchemy import create_engine\n",
    "from pandas.io.json import json_normalize\n",
    "\n",
    "conn_string = 'postgresql://' + os.environ['PGHOST'] + '/' + os.environ['PGDATABASE']\n",
    "engine = create_engine(conn_string)\n",
    "\n",
    "target_schema = \"se_features\"\n",
    "\n",
    "engine.execute(\"SET search_path TO %s, public\" % target_schema)\n",
    "rv = engine.execute(\"SELECT category FROM %s.liwc_2015\" % target_schema)\n",
    "\n",
    "categories = [ r['category'] for r in rv]\n",
    "\n",
    "plan = \"\"\"\n",
    "    SELECT word_list\n",
    "    FROM %s.liwc_2015 \"\"\" % target_schema + \"WHERE category = %s\"\n",
    "\n",
    "mod_word_list = {}\n",
    "for cat in categories:\n",
    "    rows = list(engine.execute(plan, [cat]))\n",
    "    word_list = rows[0]['word_list']\n",
    "    mod_word_list[cat] = [re.sub('\\*(?:\\s*$)?', '[a-z]*', word.lower())\n",
    "                            for word in word_list]\n",
    "\n",
    "# Pre-compile regular expressions.\n",
    "regex_list = {}\n",
    "for key in mod_word_list.keys():\n",
    "    regex = r'\\b(?:' + '|'.join(mod_word_list[key]) + r')\\b'\n",
    "    regex_list[key] = re.compile(regex)\n",
    "    \n",
    "regex_list['They']"
   ]
  },
  {
   "cell_type": "code",
   "execution_count": 3,
   "metadata": {},
   "outputs": [],
   "source": [
    "def liwc_counts(the_text):\n",
    "    \"\"\"Function to return number of matches against a LIWC category in a text\"\"\"\n",
    "    # Construct a counter of the words and return as JSON\n",
    "    text = re.sub(u'\\u2019', \"'\", the_text).lower()\n",
    "    the_dict = {cat: len(re.findall(regex_list[cat], text)) for cat in categories}\n",
    "    return json.dumps(the_dict)\n",
    "\n",
    "def expand_json(df, col):\n",
    "    return pd.concat([df.drop([col], axis=1),\n",
    "                      df[col].map(lambda x: json.loads(x)).apply(pd.Series)], axis=1)"
   ]
  },
  {
   "cell_type": "code",
   "execution_count": 4,
   "metadata": {},
   "outputs": [],
   "source": [
    "sample_text = \"\"\"\n",
    "    Okay. And then, as you look at the 132 franchise agreements signed year-to-date,\n",
    "    it looks like about at least through this third quarter, slightly less \n",
    "    than half were net new agreements versus renewals or conversions. \n",
    "    The new guys coming in, what's the mix of brands they're choosing? \n",
    "    Are they -- where kind of in the scale are they kind of economy up?\n",
    "            And what's the mix of brands they're coming over for?\"\"\""
   ]
  },
  {
   "cell_type": "code",
   "execution_count": 5,
   "metadata": {},
   "outputs": [
    {
     "data": {
      "text/plain": [
       "'{\"Function\": 40, \"Pronoun\": 9, \"Ppron\": 5, \"I\": 0, \"We\": 0, \"You\": 1, \"SheHe\": 0, \"They\": 4, \"Ipron\": 4, \"Article\": 5, \"Prep\": 18, \"Auxverb\": 7, \"Power\": 2, \"Adverb\": 2, \"Conj\": 5, \"Negate\": 0, \"Verb\": 11, \"Adj\": 6, \"Compare\": 5, \"Interrog\": 3, \"Number\": 3, \"Quant\": 2, \"Affect\": 5, \"Posemo\": 5, \"Negemo\": 0, \"Anx\": 0, \"Anger\": 0, \"Sad\": 0, \"Social\": 8, \"Family\": 0, \"Friend\": 2, \"Female\": 0, \"Male\": 1, \"CogProc\": 6, \"Insight\": 1, \"Cause\": 0, \"Discrep\": 0, \"Tentat\": 3, \"Certain\": 0, \"Differ\": 3, \"Percept\": 2, \"See\": 2, \"Hear\": 0, \"Feel\": 0, \"Bio\": 0, \"Body\": 0, \"Health\": 0, \"Sexual\": 0, \"Ingest\": 0, \"Drives\": 3, \"Affiliation\": 1, \"Achieve\": 0, \"Reward\": 0, \"Risk\": 0, \"FocusPast\": 1, \"FocusPresent\": 8, \"FocusFuture\": 3, \"Relativ\": 14, \"Motion\": 2, \"Space\": 7, \"Time\": 5, \"Work\": 2, \"Leisure\": 0, \"Home\": 0, \"Money\": 2, \"Relig\": 0, \"Death\": 0, \"Informal\": 1, \"Swear\": 0, \"Netspeak\": 0, \"Assent\": 1, \"Nonflu\": 0, \"Filler\": 0}'"
      ]
     },
     "execution_count": 5,
     "metadata": {},
     "output_type": "execute_result"
    }
   ],
   "source": [
    "liwc_counts(sample_text)"
   ]
  },
  {
   "cell_type": "code",
   "execution_count": 6,
   "metadata": {},
   "outputs": [
    {
     "data": {
      "text/plain": [
       "[['they', 'they', 'they', 'they']]"
      ]
     },
     "execution_count": 6,
     "metadata": {},
     "output_type": "execute_result"
    }
   ],
   "source": [
    "[re.findall(regex_list['They'], sample_text)]"
   ]
  }
 ],
 "metadata": {
  "kernelspec": {
   "display_name": "Python 3",
   "language": "python",
   "name": "python3"
  },
  "language_info": {
   "codemirror_mode": {
    "name": "ipython",
    "version": 3
   },
   "file_extension": ".py",
   "mimetype": "text/x-python",
   "name": "python",
   "nbconvert_exporter": "python",
   "pygments_lexer": "ipython3",
   "version": "3.6.7"
  }
 },
 "nbformat": 4,
 "nbformat_minor": 2
}
