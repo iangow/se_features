{
 "cells": [
  {
   "cell_type": "code",
   "execution_count": 1,
   "metadata": {
    "collapsed": false
   },
   "outputs": [],
   "source": [
    "import os\n",
    "os.environ['PGHOST']=\"aaz.chicagobooth.edu\"\n",
    "os.environ['PGDATABASE']=\"postgres\""
   ]
  },
  {
   "cell_type": "code",
   "execution_count": 2,
   "metadata": {
    "collapsed": false
   },
   "outputs": [
    {
     "name": "stdout",
     "output_type": "stream",
     "text": [
      "postgresql://aaz.chicagobooth.edu/postgres\n"
     ]
    }
   ],
   "source": [
    "from sqlalchemy import create_engine\n",
    "from pandas.io.sql import read_sql\n",
    "from run_NER import conn_string\n",
    "print(conn_string)"
   ]
  },
  {
   "cell_type": "code",
   "execution_count": 3,
   "metadata": {
    "collapsed": false
   },
   "outputs": [],
   "source": [
    "file_name = '1215386_T'\n",
    "engine = create_engine(conn_string)\n",
    "# It may be better to explicitly create the table elsewhere.\n",
    "# Checking like this might be slower.\n",
    "\n",
    "sql = \"\"\"\n",
    "    SELECT file_name, last_update, speaker_number, speaker_text\n",
    "    FROM (\n",
    "        SELECT file_name, last_update, speaker_number, speaker_text\n",
    "        FROM streetevents.speaker_data\n",
    "        WHERE context = 'qa') AS s\n",
    "    JOIN (\n",
    "        SELECT file_name, last_update,\n",
    "            unnest(streetevents.qa_pairs.question_nums) AS speaker_number\n",
    "        FROM streetevents.qa_pairs) AS q\n",
    "    USING (file_name, last_update, speaker_number)\n",
    "    WHERE file_name='%s'\n",
    "\"\"\" % (file_name)\n",
    "\n",
    "df = read_sql(sql, engine)\n",
    "engine.dispose()"
   ]
  },
  {
   "cell_type": "code",
   "execution_count": 4,
   "metadata": {
    "collapsed": false
   },
   "outputs": [
    {
     "data": {
      "text/html": [
       "<div>\n",
       "<table border=\"1\" class=\"dataframe\">\n",
       "  <thead>\n",
       "    <tr style=\"text-align: right;\">\n",
       "      <th></th>\n",
       "      <th>file_name</th>\n",
       "      <th>last_update</th>\n",
       "      <th>speaker_number</th>\n",
       "      <th>speaker_text</th>\n",
       "    </tr>\n",
       "  </thead>\n",
       "  <tbody>\n",
       "    <tr>\n",
       "      <th>0</th>\n",
       "      <td>1215386_T</td>\n",
       "      <td>2006-03-09 21:21:37</td>\n",
       "      <td>24</td>\n",
       "      <td>Okay. Does probably not mean that this will ha...</td>\n",
       "    </tr>\n",
       "    <tr>\n",
       "      <th>1</th>\n",
       "      <td>1215386_T</td>\n",
       "      <td>2006-03-09 21:21:37</td>\n",
       "      <td>4</td>\n",
       "      <td>Then on the first quarter, maybe, can you give...</td>\n",
       "    </tr>\n",
       "    <tr>\n",
       "      <th>2</th>\n",
       "      <td>1215386_T</td>\n",
       "      <td>2006-03-09 21:21:37</td>\n",
       "      <td>22</td>\n",
       "      <td>I have a question concerning Italy. I'm still ...</td>\n",
       "    </tr>\n",
       "    <tr>\n",
       "      <th>3</th>\n",
       "      <td>1215386_T</td>\n",
       "      <td>2006-03-09 21:21:37</td>\n",
       "      <td>8</td>\n",
       "      <td>Yes. And assuming that it is slightly positive...</td>\n",
       "    </tr>\n",
       "    <tr>\n",
       "      <th>4</th>\n",
       "      <td>1215386_T</td>\n",
       "      <td>2006-03-09 21:21:37</td>\n",
       "      <td>2</td>\n",
       "      <td>First question regarding the competition in Ge...</td>\n",
       "    </tr>\n",
       "    <tr>\n",
       "      <th>5</th>\n",
       "      <td>1215386_T</td>\n",
       "      <td>2006-03-09 21:21:37</td>\n",
       "      <td>17</td>\n",
       "      <td>I wondered if you could give us first of all s...</td>\n",
       "    </tr>\n",
       "    <tr>\n",
       "      <th>6</th>\n",
       "      <td>1215386_T</td>\n",
       "      <td>2006-03-09 21:21:37</td>\n",
       "      <td>10</td>\n",
       "      <td>And maybe it's a little bit too early, but -- ...</td>\n",
       "    </tr>\n",
       "    <tr>\n",
       "      <th>7</th>\n",
       "      <td>1215386_T</td>\n",
       "      <td>2006-03-09 21:21:37</td>\n",
       "      <td>12</td>\n",
       "      <td>One last question. You mentioned the Swiss mar...</td>\n",
       "    </tr>\n",
       "    <tr>\n",
       "      <th>8</th>\n",
       "      <td>1215386_T</td>\n",
       "      <td>2006-03-09 21:21:37</td>\n",
       "      <td>14</td>\n",
       "      <td>Maybe one very last question. You just reached...</td>\n",
       "    </tr>\n",
       "    <tr>\n",
       "      <th>9</th>\n",
       "      <td>1215386_T</td>\n",
       "      <td>2006-03-09 21:21:37</td>\n",
       "      <td>26</td>\n",
       "      <td>But I can assume that given what happened in e...</td>\n",
       "    </tr>\n",
       "    <tr>\n",
       "      <th>10</th>\n",
       "      <td>1215386_T</td>\n",
       "      <td>2006-03-09 21:21:37</td>\n",
       "      <td>19</td>\n",
       "      <td>I have a connected question to this one, becau...</td>\n",
       "    </tr>\n",
       "    <tr>\n",
       "      <th>11</th>\n",
       "      <td>1215386_T</td>\n",
       "      <td>2006-03-09 21:21:37</td>\n",
       "      <td>6</td>\n",
       "      <td>And due to the free cash flow guidance, does t...</td>\n",
       "    </tr>\n",
       "  </tbody>\n",
       "</table>\n",
       "</div>"
      ],
      "text/plain": [
       "    file_name         last_update  speaker_number  \\\n",
       "0   1215386_T 2006-03-09 21:21:37              24   \n",
       "1   1215386_T 2006-03-09 21:21:37               4   \n",
       "2   1215386_T 2006-03-09 21:21:37              22   \n",
       "3   1215386_T 2006-03-09 21:21:37               8   \n",
       "4   1215386_T 2006-03-09 21:21:37               2   \n",
       "5   1215386_T 2006-03-09 21:21:37              17   \n",
       "6   1215386_T 2006-03-09 21:21:37              10   \n",
       "7   1215386_T 2006-03-09 21:21:37              12   \n",
       "8   1215386_T 2006-03-09 21:21:37              14   \n",
       "9   1215386_T 2006-03-09 21:21:37              26   \n",
       "10  1215386_T 2006-03-09 21:21:37              19   \n",
       "11  1215386_T 2006-03-09 21:21:37               6   \n",
       "\n",
       "                                         speaker_text  \n",
       "0   Okay. Does probably not mean that this will ha...  \n",
       "1   Then on the first quarter, maybe, can you give...  \n",
       "2   I have a question concerning Italy. I'm still ...  \n",
       "3   Yes. And assuming that it is slightly positive...  \n",
       "4   First question regarding the competition in Ge...  \n",
       "5   I wondered if you could give us first of all s...  \n",
       "6   And maybe it's a little bit too early, but -- ...  \n",
       "7   One last question. You mentioned the Swiss mar...  \n",
       "8   Maybe one very last question. You just reached...  \n",
       "9   But I can assume that given what happened in e...  \n",
       "10  I have a connected question to this one, becau...  \n",
       "11  And due to the free cash flow guidance, does t...  "
      ]
     },
     "execution_count": 4,
     "metadata": {},
     "output_type": "execute_result"
    }
   ],
   "source": [
    "df"
   ]
  },
  {
   "cell_type": "code",
   "execution_count": 5,
   "metadata": {
    "collapsed": true
   },
   "outputs": [],
   "source": [
    "from findner import findner, tagger_init, get_positions, flatten"
   ]
  },
  {
   "cell_type": "code",
   "execution_count": 6,
   "metadata": {
    "collapsed": false
   },
   "outputs": [],
   "source": [
    "from nltk.tokenize import sent_tokenize, word_tokenize\n",
    "text_array = df['speaker_text']\n",
    "sents = [sent_tokenize(speaker_text) for speaker_text in text_array]\n",
    "sentence_lists = [word_tokenize(s) for s in flatten(sents)]"
   ]
  },
  {
   "cell_type": "code",
   "execution_count": 7,
   "metadata": {
    "collapsed": false
   },
   "outputs": [
    {
     "name": "stdout",
     "output_type": "stream",
     "text": [
      "[2, 21, 32, 7, 16]\n",
      "[[0, 2], [2, 23], [23, 55], [55, 62], [62, 78]]\n"
     ]
    }
   ],
   "source": [
    "print([len(s) for s in sentence_lists[:5]])\n",
    "print(get_positions(sentence_lists[:5]))"
   ]
  },
  {
   "cell_type": "code",
   "execution_count": 8,
   "metadata": {
    "collapsed": false
   },
   "outputs": [
    {
     "data": {
      "text/plain": [
       "0            {\"DATE\": [\"first\", \"quarter\", \"onwards\"]}\n",
       "1                       {\"DATE\": [\"first\", \"quarter\"]}\n",
       "2    {\"LOCATION\": [\"Italy\", \"Italy\"], \"ORGANIZATION...\n",
       "3                                                   {}\n",
       "4       {\"LOCATION\": [\"Germany\"], \"DATE\": [\"January\"]}\n",
       "Name: speaker_text, dtype: object"
      ]
     },
     "execution_count": 8,
     "metadata": {},
     "output_type": "execute_result"
    }
   ],
   "source": [
    "# Confirm that old, SLOW function still works\n",
    "tagger_init()\n",
    "df['speaker_text'][:5].map(findner)"
   ]
  },
  {
   "cell_type": "code",
   "execution_count": null,
   "metadata": {
    "collapsed": true
   },
   "outputs": [],
   "source": []
  }
 ],
 "metadata": {
  "kernelspec": {
   "display_name": "Python 3",
   "language": "python",
   "name": "python3"
  },
  "language_info": {
   "codemirror_mode": {
    "name": "ipython",
    "version": 3
   },
   "file_extension": ".py",
   "mimetype": "text/x-python",
   "name": "python",
   "nbconvert_exporter": "python",
   "pygments_lexer": "ipython3",
   "version": "3.4.5"
  }
 },
 "nbformat": 4,
 "nbformat_minor": 0
}
