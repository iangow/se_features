{
 "cells": [
  {
   "cell_type": "code",
   "execution_count": 1,
   "metadata": {
    "scrolled": true
   },
   "outputs": [],
   "source": [
    "from fls_functions import fls_fog"
   ]
  },
  {
   "cell_type": "code",
   "execution_count": 2,
   "metadata": {},
   "outputs": [
    {
     "data": {
      "text/plain": [
       "{'fl_fog': None,\n",
       " 'fl_fog_sents': None,\n",
       " 'fl_complex_words': None,\n",
       " 'fl_fog_words': None,\n",
       " 'nfl_fog': 0.7000000000000001,\n",
       " 'nfl_complex_words': 0,\n",
       " 'nfl_fog_words': 7,\n",
       " 'nfl_fog_sents': 4,\n",
       " 'nfl_positive': 0,\n",
       " 'nfl_negative': 0,\n",
       " 'nfl_uncertainty': 0,\n",
       " 'nfl_litigious': 0,\n",
       " 'nfl_modal_strong': 0,\n",
       " 'nfl_modal_weak': 0}"
      ]
     },
     "execution_count": 2,
     "metadata": {},
     "output_type": "execute_result"
    }
   ],
   "source": [
    "some_text = 'Scott? Helen? Okay. Are you there, Scott?'\n",
    "fls_fog(some_text)"
   ]
  },
  {
   "cell_type": "code",
   "execution_count": 3,
   "metadata": {},
   "outputs": [],
   "source": [
    "some_text = \"\"\"Welcome to the Manitowoc Co. Inc. second quarter's earnings conference call. \n",
    "Today's call is being recorded.\n",
    "There will be a question and answer session following the presentation.\n",
    "Instructions for asking a question will be given at that time.\n",
    "For opening remarks and introductions I would like to turn the call over to Mr. Kyle.\n",
    "You may begin, Sir.\n",
    "\"\"\""
   ]
  },
  {
   "cell_type": "code",
   "execution_count": 4,
   "metadata": {},
   "outputs": [
    {
     "data": {
      "text/plain": [
       "{'fl_fog': 8.082051282051282,\n",
       " 'fl_complex_words': 3,\n",
       " 'fl_fog_words': 26,\n",
       " 'fl_fog_sents': 3,\n",
       " 'nfl_fog': 11.5921568627451,\n",
       " 'nfl_complex_words': 6,\n",
       " 'nfl_fog_words': 34,\n",
       " 'nfl_fog_sents': 3,\n",
       " 'fl_positive': 0,\n",
       " 'fl_negative': 2,\n",
       " 'fl_uncertainty': 1,\n",
       " 'fl_litigious': 0,\n",
       " 'fl_modal_strong': 2,\n",
       " 'fl_modal_weak': 1,\n",
       " 'nfl_positive': 0,\n",
       " 'nfl_negative': 0,\n",
       " 'nfl_uncertainty': 0,\n",
       " 'nfl_litigious': 0,\n",
       " 'nfl_modal_strong': 0,\n",
       " 'nfl_modal_weak': 0}"
      ]
     },
     "execution_count": 4,
     "metadata": {},
     "output_type": "execute_result"
    }
   ],
   "source": [
    "fls_fog(some_text)"
   ]
  },
  {
   "cell_type": "code",
   "execution_count": 5,
   "metadata": {},
   "outputs": [],
   "source": [
    "import pandas as pd\n",
    "from sqlalchemy import create_engine\n",
    "\n",
    "conn_string = 'postgresql://localhost/crsp'\n",
    "\n",
    "engine = create_engine(conn_string)\n",
    "\n",
    "sql =  \"\"\"\n",
    "    SELECT file_name, last_update, speaker_number, context, section,\n",
    "       speaker_text\n",
    "    FROM streetevents.speaker_data\n",
    "    WHERE file_name = '1000000_T' \n",
    "    ORDER BY section, context, speaker_number\n",
    "\"\"\"\n",
    "\n",
    "speaker_data = pd.read_sql(sql, engine)"
   ]
  },
  {
   "cell_type": "code",
   "execution_count": 6,
   "metadata": {},
   "outputs": [],
   "source": [
    "import json\n",
    "\n",
    "def expand_json(df, col):\n",
    "    return pd.concat([df.drop([col], axis=1),\n",
    "                      df[col].map(lambda x: json.loads(json.dumps(x))).apply(pd.Series)], axis=1)"
   ]
  },
  {
   "cell_type": "code",
   "execution_count": 7,
   "metadata": {},
   "outputs": [],
   "source": [
    "speaker_data['last_update'] = speaker_data['last_update'].map(lambda x: str(x.astimezone('UTC')))\n",
    "speaker_data['fls_data'] = speaker_data['speaker_text'].apply(fls_fog)\n",
    "speaker_data = expand_json(speaker_data, 'fls_data')\n",
    "speaker_data = speaker_data.drop(['speaker_text'], axis=1)"
   ]
  },
  {
   "cell_type": "code",
   "execution_count": null,
   "metadata": {},
   "outputs": [],
   "source": []
  }
 ],
 "metadata": {
  "kernelspec": {
   "display_name": "Python 3",
   "language": "python",
   "name": "python3"
  },
  "language_info": {
   "codemirror_mode": {
    "name": "ipython",
    "version": 3
   },
   "file_extension": ".py",
   "mimetype": "text/x-python",
   "name": "python",
   "nbconvert_exporter": "python",
   "pygments_lexer": "ipython3",
   "version": "3.8.5"
  }
 },
 "nbformat": 4,
 "nbformat_minor": 2
}
